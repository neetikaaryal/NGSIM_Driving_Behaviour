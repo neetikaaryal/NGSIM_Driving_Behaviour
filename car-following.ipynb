{
 "cells": [
  {
   "cell_type": "code",
   "execution_count": 1,
   "metadata": {},
   "outputs": [],
   "source": [
    "import pandas as pd\n",
    "import dask.dataframe as dd"
   ]
  },
  {
   "cell_type": "code",
   "execution_count": 2,
   "metadata": {},
   "outputs": [],
   "source": [
    "df = dd.read_csv('E:/Technical_assessment/Next_Generation_Simulation__NGSIM__Vehicle_Trajectories_and_Supporting_Data_20240808.csv')"
   ]
  },
  {
   "cell_type": "code",
   "execution_count": 9,
   "metadata": {},
   "outputs": [
    {
     "name": "stdout",
     "output_type": "stream",
     "text": [
      "Number of valid car-following pairs (following for at least 20 seconds): 15992\n"
     ]
    }
   ],
   "source": [
    "\n",
    "#['Global_Time'] = dd.to_datetime(df['Global_Time'], unit='ms')\n",
    "#  Convert 'Global_Time' to datetime for easier manipulation\n",
    "# df\n",
    "# Define a function to identify valid car-following pairs\n",
    "def find_valid_pairs(df):\n",
    "    # Filter out rows where 'Following' is not zero\n",
    "    following_df = df[df['Following'] != 0]\n",
    "    \n",
    "    # Sort by 'Vehicle_ID', 'Following', and 'Global_Time'\n",
    "    following_df = following_df.sort_values(by=['Vehicle_ID', 'Following', 'Global_Time'])\n",
    "\n",
    "    # Group by 'Vehicle_ID' and 'Following'\n",
    "    grouped = following_df.groupby(['Vehicle_ID', 'Following'])\n",
    "    \n",
    "    # Function to calculate continuous following duration\n",
    "    def calculate_following_duration(group):\n",
    "        group = group.sort_values('Global_Time')\n",
    "        group['Time_Diff'] = group['Global_Time'].diff().fillna(pd.Timedelta(seconds=0))\n",
    "        \n",
    "        # Sum of continuous following durations\n",
    "        total_following_duration = group['Time_Diff'].sum().total_seconds()\n",
    "        \n",
    "        return total_following_duration\n",
    "    \n",
    "    # Apply the function and filter for valid pairs\n",
    "    following_durations = grouped.apply(calculate_following_duration, meta=('x', 'f8'))\n",
    "    valid_pairs = following_durations[following_durations >= 20]\n",
    "    \n",
    "    return valid_pairs\n",
    "\n",
    "# Apply the function to the dataset\n",
    "valid_pairs = find_valid_pairs(df)\n",
    "\n",
    "# Compute the result\n",
    "num_valid_pairs = valid_pairs.compute().shape[0]\n",
    "\n",
    "# Print the number of valid car-following pairs\n",
    "print(f\"Number of valid car-following pairs (following for at least 20 seconds): {num_valid_pairs}\")"
   ]
  },
  {
   "cell_type": "code",
   "execution_count": 12,
   "metadata": {},
   "outputs": [
    {
     "name": "stdout",
     "output_type": "stream",
     "text": [
      "Total number of vehicles: 3233\n"
     ]
    }
   ],
   "source": [
    "# Calculate total number of unique vehicles\n",
    "total_vehicles = df['Vehicle_ID'].nunique().compute()\n",
    "\n",
    "print(f\"Total number of vehicles: {total_vehicles}\")"
   ]
  }
 ],
 "metadata": {
  "kernelspec": {
   "display_name": "Python 3",
   "language": "python",
   "name": "python3"
  },
  "language_info": {
   "codemirror_mode": {
    "name": "ipython",
    "version": 3
   },
   "file_extension": ".py",
   "mimetype": "text/x-python",
   "name": "python",
   "nbconvert_exporter": "python",
   "pygments_lexer": "ipython3",
   "version": "3.10.4"
  }
 },
 "nbformat": 4,
 "nbformat_minor": 2
}
